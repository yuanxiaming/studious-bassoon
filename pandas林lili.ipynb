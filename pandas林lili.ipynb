{
 "cells": [
  {
   "cell_type": "markdown",
   "id": "bdbc5601",
   "metadata": {},
   "source": [
    "pip install pandas\n",
    "\n",
    "\n",
    "Series首字母大写\n",
    "\n",
    "\n",
    "\n",
    "单独获得series内部所有的元素值：用s1.values属性\n",
    "\n",
    "\n",
    "单独获得series内部所有的索引值：用s1.index属性\n",
    "\n",
    "\n",
    "索引操作：s1[2]\n",
    "\n",
    "\n",
    "切片操作：s1[1:4]"
   ]
  },
  {
   "cell_type": "code",
   "execution_count": 1,
   "id": "b6f6663e",
   "metadata": {},
   "outputs": [
    {
     "data": {
      "text/plain": [
       "1    17\n",
       "2     3\n",
       "3    26\n",
       "dtype: int64"
      ]
     },
     "execution_count": 1,
     "metadata": {},
     "output_type": "execute_result"
    }
   ],
   "source": [
    "import pandas as pd\n",
    "s1=pd.Series([5,17,3,26,31])\n",
    "s1\n",
    "s1.values\n",
    "s1.index\n",
    "s1[2]\n",
    "s1[1:4]"
   ]
  },
  {
   "cell_type": "markdown",
   "id": "5203d51b",
   "metadata": {},
   "source": [
    "\n",
    "# Series和numpy区别:\n",
    "\n",
    "\n",
    "Series元素自带索引\n",
    "\n",
    "Series支持自定义索引(称之为标签索引)和切片\n",
    "\n",
    "Series标签切片时末尾值也会包含在内"
   ]
  },
  {
   "cell_type": "code",
   "execution_count": 21,
   "id": "15efe495",
   "metadata": {},
   "outputs": [
    {
     "data": {
      "text/plain": [
       "青菜    4.1\n",
       "萝卜    2.3\n",
       "土豆    1.5\n",
       "白菜    1.7\n",
       "dtype: float64"
      ]
     },
     "execution_count": 21,
     "metadata": {},
     "output_type": "execute_result"
    }
   ],
   "source": [
    "# Series自定义索引：\n",
    "\n",
    "#方式一：在后尾加index属性列表\n",
    "s2=pd.Series([5,17,3,26,31],index=['a','b','c','d','e'])\n",
    "\n",
    "#方式二：给Series这个构造直接传入一个字典\n",
    "s3=pd.Series({'青菜':4.1,'萝卜':2.3,'土豆':1.5,'白菜':1.7})\n",
    "s3"
   ]
  },
  {
   "cell_type": "code",
   "execution_count": 17,
   "id": "a82ca785",
   "metadata": {},
   "outputs": [
    {
     "data": {
      "text/plain": [
       "b    17\n",
       "c     3\n",
       "dtype: int64"
      ]
     },
     "execution_count": 17,
     "metadata": {},
     "output_type": "execute_result"
    }
   ],
   "source": [
    "#同时索引多个元素\n",
    "#方法1：标签索引loc\n",
    "s2[['a','c','e']]\n",
    "\n",
    "#方法2：位置索引iloc\n",
    "s2[[0,2,1]]\n",
    "\n",
    "#切片取多个值：\n",
    "#方法1：标签索引loc\n",
    "s2.loc['a':'c']\n",
    "\n",
    "#方法2：位置索引iloc\n",
    "s2.iloc[1:3]"
   ]
  },
  {
   "cell_type": "code",
   "execution_count": 22,
   "id": "0a5ab333",
   "metadata": {},
   "outputs": [
    {
     "data": {
      "text/plain": [
       "青菜    4.5\n",
       "萝卜    2.3\n",
       "土豆    1.5\n",
       "白菜    1.7\n",
       "dtype: float64"
      ]
     },
     "execution_count": 22,
     "metadata": {},
     "output_type": "execute_result"
    }
   ],
   "source": [
    "#检查标签是否存在用in关键字\n",
    "\"青菜\" in s3"
   ]
  },
  {
   "cell_type": "code",
   "execution_count": 23,
   "id": "1f7ebe75",
   "metadata": {},
   "outputs": [
    {
     "data": {
      "text/plain": [
       "青菜    4.5\n",
       "萝卜    2.3\n",
       "土豆    1.5\n",
       "白菜    1.7\n",
       "dtype: float64"
      ]
     },
     "execution_count": 23,
     "metadata": {},
     "output_type": "execute_result"
    }
   ],
   "source": [
    "#修改series里面的值：类似于字典\n",
    "s3.loc['青菜']=4.5\n",
    "s3"
   ]
  },
  {
   "cell_type": "code",
   "execution_count": 25,
   "id": "ac5e8e7f",
   "metadata": {
    "scrolled": true
   },
   "outputs": [
    {
     "data": {
      "text/plain": [
       "青菜    4.5\n",
       "dtype: float64"
      ]
     },
     "execution_count": 25,
     "metadata": {},
     "output_type": "execute_result"
    }
   ],
   "source": [
    "#根据条件筛选Series内部元素：s3[条件]\n",
    "s3[s3>3]\n",
    "\n",
    "#这里也同时支持与或非关键词操作"
   ]
  },
  {
   "cell_type": "code",
   "execution_count": 30,
   "id": "92824968",
   "metadata": {},
   "outputs": [
    {
     "name": "stdout",
     "output_type": "stream",
     "text": [
      "0   -1.2\n",
      "1    3.7\n",
      "2    2.5\n",
      "3   -8.2\n",
      "4    6.3\n",
      "dtype: float64\n",
      "[-1.2  3.7  2.5 -8.2  6.3]\n",
      "RangeIndex(start=0, stop=5, step=1)\n",
      "5    1\n",
      "4    2\n",
      "3    3\n",
      "2    4\n",
      "1    5\n",
      "dtype: int64\n",
      "2\n",
      "5    1\n",
      "4    2\n",
      "3    3\n",
      "dtype: int64\n",
      "小李    86\n",
      "小曾    85\n",
      "dtype: int64\n"
     ]
    }
   ],
   "source": [
    "#练习：\n",
    "\n",
    "import pandas as pd\n",
    "s1=pd.Series([-1.2,3.7,2.5,-8.2,6.3])\n",
    "print(s1)\n",
    "print(s1.values)\n",
    "print(s1.index)\n",
    "s2=pd.Series([1,2,3,4,5],index=[5,4,3,2,1])\n",
    "print(s2)\n",
    "print(s2.iloc[1])\n",
    "print(s2.loc[5:3])\n",
    "s3=pd.Series({\"小李\":86,\"小陈\":45,\"小张\":87,\"小刘\":96,\"小邓\":75,\"小曾\":85})\n",
    "s3.loc['小张']=98\n",
    "print(s3[(s3>80)&(s3<90)])\n"
   ]
  },
  {
   "cell_type": "markdown",
   "id": "101de284",
   "metadata": {},
   "source": [
    "# series之间运算： \n",
    "\n",
    "\n",
    "series和series之间进行加减乘除，会默认根据索引值进行相互匹配自动对齐\n",
    "\n",
    "\n",
    "若存在相互不对应的索引值，会返回nan\n",
    "\n",
    "\n",
    "解决方法：利用方法例如计算s1+s2\n",
    "\n",
    "\n",
    "s1.add(s2,fill_value=0)#默认空值为0\n",
    "\n",
    "\n",
    "加：add 减：sub 乘：mul 除：div\n",
    "\n",
    "\n",
    "### series之间同样支持mean max min sum方法计算，使用方法和numpy一样\n",
    "\n",
    "例：\n",
    "```python\n",
    "print(s1.sum())\n",
    "print(s1.mean())\n",
    "```\n",
    "### describe方法：\n",
    "\n",
    "\n",
    "能一次返回元素个数(count)平均值(mean)标准差(std)最大最小值，四分位值等等\n",
    "\n",
    "\n",
    "### series对单个元素进行操作：\n",
    "\n",
    "\n",
    "通过apply()方法：在括号内填入对应的方法\n",
    "\n",
    "\n",
    "apply方法不改变原始series而是返回一个新的series"
   ]
  },
  {
   "cell_type": "code",
   "execution_count": 10,
   "id": "81b002ff",
   "metadata": {},
   "outputs": [
    {
     "name": "stdout",
     "output_type": "stream",
     "text": [
      "小明    92\n",
      "小红    67\n",
      "小杰    70\n",
      "小丽    88\n",
      "小华    76\n",
      "dtype: int64 小明    95\n",
      "小杰    85\n",
      "小雨    60\n",
      "小卷    79\n",
      "小同    76\n",
      "dtype: int64\n",
      "小明    97\n",
      "小红    72\n",
      "小杰    75\n",
      "小丽    93\n",
      "小华    81\n",
      "dtype: int64\n",
      "小丽    B\n",
      "小华    C\n",
      "小卷    C\n",
      "小同    C\n",
      "小明    A\n",
      "小杰    A\n",
      "小红    D\n",
      "小雨    D\n",
      "dtype: object\n"
     ]
    }
   ],
   "source": [
    "# text\n",
    "#导入pandas\n",
    "import pandas as pd\n",
    "s1=pd.Series([92,67,70,88,76],index=['小明','小红','小杰','小丽','小华'])\n",
    "s2=pd.Series([95,85,60,79,76],index=['小明','小杰','小雨','小卷','小同'])\n",
    "print(s1,s2)#同时打印s1和s2\n",
    "s3=s1.add(s2,fill_value=0)#定义s3为s1和s2相加，没有对应索引值的元素与0相加\n",
    "s1.describe()#统计学描述s1和s3\n",
    "s3.describe()\n",
    "s1=s1+5#这里只是更新了s1，但不会输出s1，要在后面利用print语句检查更新后的结果\n",
    "print(s1)\n",
    "#根据成绩输出学生对应等级abcde，A等90-100分，以此类推\n",
    "def rank_devide(score):\n",
    "    if score>=90:\n",
    "        return'A'\n",
    "    elif score>=80:\n",
    "        return'B'\n",
    "    elif score>=70:\n",
    "        return'C'\n",
    "    elif score>=60:\n",
    "        return'D'\n",
    "    else:\n",
    "        return'E'\n",
    "print(s3.apply(rank_devide))\n",
    "#这里调用的是rank_devide函数的函数方法，只是借用这个方法，并没有借用它的值，因此在rank_devide函数后面没有括号"
   ]
  },
  {
   "cell_type": "code",
   "execution_count": null,
   "id": "97b53abc",
   "metadata": {},
   "outputs": [],
   "source": []
  }
 ],
 "metadata": {
  "kernelspec": {
   "display_name": "Python 3 (ipykernel)",
   "language": "python",
   "name": "python3"
  },
  "language_info": {
   "codemirror_mode": {
    "name": "ipython",
    "version": 3
   },
   "file_extension": ".py",
   "mimetype": "text/x-python",
   "name": "python",
   "nbconvert_exporter": "python",
   "pygments_lexer": "ipython3",
   "version": "3.10.6"
  }
 },
 "nbformat": 4,
 "nbformat_minor": 5
}
