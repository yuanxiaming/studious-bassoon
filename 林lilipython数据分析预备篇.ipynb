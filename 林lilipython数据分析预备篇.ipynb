{
 "cells": [
  {
   "cell_type": "code",
   "execution_count": 1,
   "id": "6bef6e91",
   "metadata": {},
   "outputs": [
    {
     "name": "stdout",
     "output_type": "stream",
     "text": [
      "1\n"
     ]
    }
   ],
   "source": [
    "print(1)"
   ]
  },
  {
   "cell_type": "markdown",
   "id": "451b9e2d",
   "metadata": {},
   "source": [
    "# 一级标题\n",
    "\n",
    "## 二级标题\n",
    "\n",
    "### 三级标题\n",
    "\n",
    "\n",
    "我是**粗体字**\n",
    "\n",
    "\n",
    "我是*斜体字*\n",
    "\n",
    "\n",
    "我被~~删除~~了\n"
   ]
  },
  {
   "cell_type": "markdown",
   "id": "56c4a361",
   "metadata": {},
   "source": [
    "demo.ipynb是jupyter notebook的特有文件格式\n"
   ]
  },
  {
   "cell_type": "markdown",
   "id": "3045b1e7",
   "metadata": {},
   "source": [
    "#  有序列表和无序列表：\n",
    "- 无序列表第一项\n",
    "\n",
    "\n",
    "- 无序列表第二项\n",
    "\n",
    "\n",
    "1.有序列表第一项\n",
    "\n",
    "\n",
    "2.有序列表第二项"
   ]
  },
  {
   "cell_type": "markdown",
   "id": "956dda0e",
   "metadata": {},
   "source": [
    "#  引用链接：\n",
    "普通链接：https://space.bilibili.com/398881554\n",
    "\n",
    "\n",
    "普通链接markdown语法可以自动识别出来\n",
    "\n",
    "\n",
    "有链接标题的链接：\n",
    "[链接标题名称](链接地址)\n",
    "\n",
    "\n",
    "前面是方括号，后面是圆括号\n",
    "\n",
    "\n",
    "例如：\n",
    "\n",
    "\n",
    "[袁涛的bilibili主页](https://space.bilibili.com/398881554)\n",
    "\n"
   ]
  },
  {
   "cell_type": "markdown",
   "id": "3ae2a6b7",
   "metadata": {},
   "source": [
    "#  引用图片链接：\n",
    "\n",
    "！[这是一个图片](https://cn.bing.com/images/search?view=detailV2&ccid=Md86Wi2E&id=94E5B2B0F268680EDC09B59CFF9383E54D3A41EC&thid=OIP.Md86Wi2EYiKHNPldRZiD4gHaEo&mediaurl=https%3a%2f%2fts1.cn.mm.bing.net%2fth%2fid%2fR-C.31df3a5a2d8462228734f95d459883e2%3frik%3d7EE6TeWDk%252f%252bctQ%26riu%3dhttp%253a%252f%252fwww.quazero.com%252fuploads%252fallimg%252f140303%252f1-140303214331.jpg%26ehk%3dSpI7mz%252byLqOkT8BL79jcd3iCtQYNFlBHQzbtF1p0vuQ%253d%26risl%3d%26pid%3dImgRaw%26r%3d0&exph=1050&expw=1680&q=%e5%9b%be%e7%89%87&simid=608003267568553499&FORM=IRPRST&ck=05FC30022211F46A8B3E3FE8E8D3E082&selectedIndex=0&ajaxhist=0&ajaxserp=0)\n",
    "\n",
    "\n",
    "就是在插入链接前面多加一个感叹号，以此来标记要插入的是图片链接"
   ]
  },
  {
   "cell_type": "markdown",
   "id": "b6d5f7c2",
   "metadata": {},
   "source": [
    "# 文字内部插入代码：\n",
    "我们通过`import math`来引入math库\n",
    "\n",
    "通过反引号，在反引号内部添加代码\n",
    "\n",
    "如果需要插入独占一段的代码，就用三个反引号，包裹住代码段落。\n",
    "\n",
    "在第一行反引号后添加语法格式，以此显示对应高亮部分代码（看下面的代码吧。讲不清（狗头））\n",
    "\n",
    "\n",
    "```python\n",
    "import math\n",
    "print(\"何星宇傻逼\")\n",
    "print(1+2)\n",
    "```\n",
    "\n"
   ]
  },
  {
   "cell_type": "markdown",
   "id": "bec72912",
   "metadata": {},
   "source": [
    "#  markdown单元格里插入公式：\n",
    "\n",
    "利用美元符号，将所需要的公式放到两个美元符号内部即可\n",
    "\n",
    "通过两个美元符号可实现公式单独占一行的效果\n",
    "\n",
    "例子：\n",
    "\n",
    "这是一个普通公式：$y=x+3$\n",
    "\n",
    "\n",
    "这是一个独占一行的公式：$$y=x+3$$"
   ]
  },
  {
   "cell_type": "markdown",
   "id": "02fc1432",
   "metadata": {},
   "source": [
    "#  latex公式书写：\n",
    "\n",
    "加：$x+y$\n",
    "\n",
    "\n",
    "减：$x-y$\n",
    "\n",
    "\n",
    "乘：$x \\times y$    \\times表示乘法\n",
    "\n",
    "\n",
    "\n",
    "除：$x \\div y $    \\div表示除法\n",
    "\n",
    "\n",
    "求和：$\\sum(x^2+y^2)$ \n",
    "\n",
    "\n",
    "\\sum表示求和符号\n",
    "\n",
    "\n",
    "求根：$\\sqrt[3]x$ \n",
    "\n",
    "\n",
    "\\sqrt[]表示求根符号\n",
    "\n",
    "\n",
    "长公式求根：$\\sqrt[3]{a^2m^2}$\n",
    "\n",
    "\n",
    "加上标：$x^3$\n",
    "\n",
    "\n",
    "$$x^a$$\n",
    "\n",
    "\n",
    "加下标：$x_3$\n",
    "\n",
    "\n",
    "$$H_2O$$\n",
    "\n",
    "LATEX语法默认只添加一位字符，要插入多位字符通过{}添加上下标\n",
    "     \n",
    "\n",
    "加多个下标：$x_{input}$\n",
    "\n",
    "\n",
    "加多个上标: $x^{input}$\n",
    "\n",
    "\n",
    "分子和分母的分数线：$\\frac{x+y}{x-y}$\n",
    "\n",
    "\n",
    "\\frac表示分数线，分子分母表达式分别用{}括起来"
   ]
  },
  {
   "cell_type": "code",
   "execution_count": null,
   "id": "7a94fb5a",
   "metadata": {},
   "outputs": [],
   "source": []
  }
 ],
 "metadata": {
  "kernelspec": {
   "display_name": "Python 3 (ipykernel)",
   "language": "python",
   "name": "python3"
  },
  "language_info": {
   "codemirror_mode": {
    "name": "ipython",
    "version": 3
   },
   "file_extension": ".py",
   "mimetype": "text/x-python",
   "name": "python",
   "nbconvert_exporter": "python",
   "pygments_lexer": "ipython3",
   "version": "3.10.6"
  }
 },
 "nbformat": 4,
 "nbformat_minor": 5
}
