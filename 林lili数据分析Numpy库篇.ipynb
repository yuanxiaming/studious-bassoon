{
 "cells": [
  {
   "cell_type": "markdown",
   "id": "4f3810de",
   "metadata": {},
   "source": [
    "###  安装numpy库：\n",
    "\n",
    "\n",
    "```python\n",
    "pip install numpy\n",
    "import numpy as np\n",
    "```\n",
    "\n",
    "\n",
    "###  创建二维数组：\n",
    "```python\n",
    "arr2=np.array([[1,2,3],[4,5,6]])\n",
    "```\n",
    "\n",
    "最左侧有几个中括号就代表为几维数组\n",
    "\n",
    "\n",
    "返回数组维度print(arr2.ndim)  #ndim 数组维度\n",
    "\n",
    "\n",
    "返回数组各个维度元素数量：print(arr2.shape) #shape各个维度元素的数量\n",
    "\n",
    "\n",
    "其他还有：size:元素总个数  dtype返回数组元素类型(如int64，表示64bit长度整数)\n",
    "\n",
    "\n",
    "np.zeros(3)#返回三个元素值均为0的array\n",
    "\n",
    "\n",
    "np.ones(5)#返回五个元素值均为1的array\n",
    "\n",
    "\n",
    "注意：以上两种方法返回的数值类型均为float\n",
    "\n",
    "\n",
    "np.arange(初始值，末尾值，步长)\n",
    "\n",
    "\n",
    "\n",
    "###  array与list异同：\n",
    "\n",
    "\n",
    "相同：都支持索引切片迭代\n",
    "\n",
    "\n",
    "不同：array内部所有元素数据类型必须相同，list没有这个要求"
   ]
  },
  {
   "cell_type": "code",
   "execution_count": 1,
   "id": "95c118a7",
   "metadata": {},
   "outputs": [],
   "source": [
    "import numpy as np"
   ]
  },
  {
   "cell_type": "code",
   "execution_count": 3,
   "id": "4d9dce95",
   "metadata": {},
   "outputs": [
    {
     "data": {
      "text/plain": [
       "array([ 6,  2, -7,  2,  8, -2,  1])"
      ]
     },
     "execution_count": 3,
     "metadata": {},
     "output_type": "execute_result"
    }
   ],
   "source": [
    "arr1=np.array([6,2,-7,2,8,-2,1])\n",
    "arr1"
   ]
  },
  {
   "cell_type": "code",
   "execution_count": 5,
   "id": "2e638be4",
   "metadata": {},
   "outputs": [
    {
     "data": {
      "text/plain": [
       "array([[1, 3, 5],\n",
       "       [2, 4, 6]])"
      ]
     },
     "execution_count": 5,
     "metadata": {},
     "output_type": "execute_result"
    }
   ],
   "source": [
    "arr2=np.array([[1,3,5],[2,4,6]])\n",
    "arr2"
   ]
  },
  {
   "cell_type": "code",
   "execution_count": 8,
   "id": "3e2d00df",
   "metadata": {},
   "outputs": [
    {
     "name": "stdout",
     "output_type": "stream",
     "text": [
      "1\n",
      "2\n",
      "(7,)\n",
      "(2, 3)\n",
      "7\n",
      "6\n",
      "int32\n",
      "int32\n"
     ]
    }
   ],
   "source": [
    "print(arr1.ndim)\n",
    "print(arr2.ndim)\n",
    "print(arr1.shape)\n",
    "print(arr2.shape)\n",
    "print(arr1.size)\n",
    "print(arr2.size)\n",
    "print(arr1.dtype)\n",
    "print(arr2.dtype)"
   ]
  },
  {
   "cell_type": "code",
   "execution_count": 12,
   "id": "eba1acb0",
   "metadata": {},
   "outputs": [
    {
     "name": "stdout",
     "output_type": "stream",
     "text": [
      "[0. 0. 0. 0. 0. 0.]\n",
      "[1. 1. 1. 1. 1.]\n",
      "[10 12 14 16 18 20]\n"
     ]
    }
   ],
   "source": [
    "arr3=np.zeros(6)\n",
    "arr4=np.ones(5)\n",
    "arr5=np.arange(10,21,2)\n",
    "print(arr3)\n",
    "print(arr4)\n",
    "print(arr5)"
   ]
  },
  {
   "cell_type": "code",
   "execution_count": 19,
   "id": "e9575352",
   "metadata": {},
   "outputs": [
    {
     "data": {
      "text/plain": [
       "array([ 6.,  2., -7.,  2.,  8., -2.,  1.,  0.,  0.,  0.,  0.,  0.,  0.])"
      ]
     },
     "execution_count": 19,
     "metadata": {},
     "output_type": "execute_result"
    }
   ],
   "source": [
    "#连接两个数组：\n",
    "array6=np.concatenate([arr1,arr3])#要求要拼接的数组的维度相同\n",
    "array6"
   ]
  },
  {
   "cell_type": "code",
   "execution_count": null,
   "id": "fbca6a35",
   "metadata": {},
   "outputs": [],
   "source": [
    "#对数组内容进行排序：sorted\n",
    "#第一种方法：\n",
    "sorted_array6=sorted(array6)\n",
    "sorted_array6\n",
    "#sorted调用后只返回排序好的新数组，不改变原有数组\n",
    "\n",
    "#第二种方法：\n",
    "array5=arr5\n",
    "array5.sort()\n",
    "print(array5)\n",
    "#sort什们都不返回，但会改变原始数组"
   ]
  },
  {
   "cell_type": "markdown",
   "id": "a56a2a6b",
   "metadata": {},
   "source": [
    "# 数组的索引和切片\n",
    "正向：012345...\n",
    "\n",
    "\n",
    "反向：-1，-2，-3...\n",
    "\n",
    "\n",
    "切片：arr1[1:4]#索引第一到三个元素\n",
    "\n",
    "\n",
    "# 数组的数学计算\n",
    "前提：数组维度相同，数组内元素数量相同\n",
    "\n",
    "\n",
    "不同数组之间相互进行四则运算，本质是数组的相同位置对应元素之间进行相互加减乘除\n",
    "\n",
    "\n",
    "max min sum求和 mean求平均值\n",
    "\n",
    "\n",
    "例子：arr1.mean()  #求数组内所有元素的平均值\n",
    "\n",
    "\n",
    "# 根据特定条件筛选数组中的特定值\n",
    "例子：arr=([-22,3,65,8,11,7])\n",
    "arr[arr>6]\n",
    "输出筛选大于6的元素\n",
    "\n",
    "\n",
    "# python逻辑运算符\n",
    "与and:&\n",
    "\n",
    "\n",
    "或or:|\n",
    "\n",
    "\n",
    "非not: ~\n"
   ]
  },
  {
   "cell_type": "code",
   "execution_count": 25,
   "id": "a3342704",
   "metadata": {},
   "outputs": [
    {
     "data": {
      "text/plain": [
       "array([8, 7])"
      ]
     },
     "execution_count": 25,
     "metadata": {},
     "output_type": "execute_result"
    }
   ],
   "source": [
    "arr=np.array([-22,3,65,8,11,7])\n",
    "arr[(arr>6) & (arr<10)]"
   ]
  },
  {
   "cell_type": "code",
   "execution_count": 41,
   "id": "613bf102",
   "metadata": {},
   "outputs": [
    {
     "name": "stdout",
     "output_type": "stream",
     "text": [
      "[1 2 3 4 9]\n",
      "3\n",
      "[2 3 4]\n",
      "[ 2.  3.  4.  5. 10.]\n",
      "9\n",
      "1\n",
      "19\n",
      "3.8\n",
      "[4 9]\n"
     ]
    }
   ],
   "source": [
    "arr1=np.array([1,3,2,4,9])\n",
    "arr2=np.ones(5)\n",
    "arr3=np.zeros(3)\n",
    "\n",
    "#数组4要求拼接数组123\n",
    "arr4=np.concatenate([arr1,arr2,arr3])\n",
    "arr4\n",
    "\n",
    "#对数组1进行排序\n",
    "arr1.sort()\n",
    "print(arr1)\n",
    "\n",
    "#索引数组1第三个元素和第二到第四个元素\n",
    "print(arr1[2])\n",
    "print(arr1[1:4])\n",
    "\n",
    "#arr1与arr2相加\n",
    "arr_sum=arr1+arr2\n",
    "print(arr_sum)\n",
    "\n",
    "#arr1中各个元素与-5相乘结果\n",
    "arr1* -5\n",
    "\n",
    "#打印arr1的最大值最小值求和和平均值\n",
    "print(arr1.max())\n",
    "print(arr1.min())\n",
    "print(arr1.sum())\n",
    "print(arr1.mean())\n",
    "\n",
    "#筛选arr1中所有小于1或大于3的数字，并打印出来\n",
    "print(arr1[(arr1<1)|(arr1>3)])"
   ]
  },
  {
   "cell_type": "raw",
   "id": "db7e3fac",
   "metadata": {},
   "source": []
  },
  {
   "cell_type": "code",
   "execution_count": null,
   "id": "b92ef0f0",
   "metadata": {},
   "outputs": [],
   "source": []
  }
 ],
 "metadata": {
  "kernelspec": {
   "display_name": "Python 3 (ipykernel)",
   "language": "python",
   "name": "python3"
  },
  "language_info": {
   "codemirror_mode": {
    "name": "ipython",
    "version": 3
   },
   "file_extension": ".py",
   "mimetype": "text/x-python",
   "name": "python",
   "nbconvert_exporter": "python",
   "pygments_lexer": "ipython3",
   "version": "3.10.6"
  }
 },
 "nbformat": 4,
 "nbformat_minor": 5
}
